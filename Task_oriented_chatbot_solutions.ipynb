{
 "cells": [
  {
   "cell_type": "markdown",
   "metadata": {
    "slideshow": {
     "slide_type": "slide"
    }
   },
   "source": [
    "# Task-oriented chatbot solutions\n",
    "by Brandon Janes\n",
    "![task-oriented chatbot diagram](images/cover_photo.png)"
   ]
  },
  {
   "cell_type": "markdown",
   "metadata": {
    "slideshow": {
     "slide_type": "slide"
    }
   },
   "source": [
    "## CONTENTS\n",
    "### The Problem\n",
    "\n",
    "### Previous Models\n",
    "1. Maria Luisa\n",
    "1. Machine translation techniques\n",
    "\n",
    "### The Solution: Task-oriented chatbots\n",
    "- What are task-oriented chatbots?\n",
    "- Rasa\n",
    "- Advantages\n",
    "- Analysis of error\n",
    "- How to implement this product\n",
    "\n",
    "### Conclusion"
   ]
  },
  {
   "cell_type": "markdown",
   "metadata": {
    "slideshow": {
     "slide_type": "slide"
    }
   },
   "source": [
    "# The Question\n",
    "\n",
    "## Can this framework deploy quickly in different domains? or will it require lots of hands on training?\n",
    "\n",
    "# Test case: *el turnero* \n",
    "   In February 2019, we began using artificial intelligence to optimize the customer service messaging in a Customer Relationship Management (CRM) system for a client. The client is a *centro de estética* in Córdoba, Argentina that specializes in *flebología*, primarily the removal of varicose viens. Through exploratory analysis of the data we quickly discovered that the vast majority of the chats were related to scheduling appointments. And these conversation are very **repetitive**.\n",
    "   >> In other words, the CRM was essentially a *turnero*."
   ]
  },
  {
   "cell_type": "markdown",
   "metadata": {
    "slideshow": {
     "slide_type": "slide"
    }
   },
   "source": [
    "### Give me permissions to use your data."
   ]
  },
  {
   "cell_type": "code",
   "execution_count": 5,
   "metadata": {
    "slideshow": {
     "slide_type": "subslide"
    }
   },
   "outputs": [
    {
     "data": {
      "text/html": [
       "<div>\n",
       "<style scoped>\n",
       "    .dataframe tbody tr th:only-of-type {\n",
       "        vertical-align: middle;\n",
       "    }\n",
       "\n",
       "    .dataframe tbody tr th {\n",
       "        vertical-align: top;\n",
       "    }\n",
       "\n",
       "    .dataframe thead th {\n",
       "        text-align: right;\n",
       "    }\n",
       "</style>\n",
       "<table border=\"1\" class=\"dataframe\">\n",
       "  <thead>\n",
       "    <tr style=\"text-align: right;\">\n",
       "      <th></th>\n",
       "      <th>conversationid</th>\n",
       "      <th>question</th>\n",
       "      <th>answer</th>\n",
       "    </tr>\n",
       "  </thead>\n",
       "  <tbody>\n",
       "    <tr>\n",
       "      <th>0</th>\n",
       "      <td>4a8ab665d076e7cc88b89374b636d547</td>\n",
       "      <td>Hola buenos dias; necesitaria un turno La consulta seria por flebologia Hola buenos dias; necesi...</td>\n",
       "      <td>buenos días. Gracias por comunicarse con Adara!\\n\\nLe informamos que nos encontramos en  Av. Col...</td>\n",
       "    </tr>\n",
       "    <tr>\n",
       "      <th>1</th>\n",
       "      <td>4a8ab665d076e7cc88b89374b636d547</td>\n",
       "      <td>Por la tarde A que hora tendrias</td>\n",
       "      <td>Contamos con disponibilidad de turno para los días:\\n- Lunes 20/05 a las 16.30 Hs. con el Dr. La...</td>\n",
       "    </tr>\n",
       "    <tr>\n",
       "      <th>2</th>\n",
       "      <td>4a8ab665d076e7cc88b89374b636d547</td>\n",
       "      <td>Lunes 20 A las 16.30</td>\n",
       "      <td>Disculpe la demora.\\nPor último, para agendar su turno necesitamos los siguientes datos:\\n- Nomb...</td>\n",
       "    </tr>\n",
       "    <tr>\n",
       "      <th>3</th>\n",
       "      <td>c73ac5d9047cabc738041ea0103993f4</td>\n",
       "      <td>Farias roxana 28273432 Yocsina No tengo correo</td>\n",
       "      <td>Roxana, disculpe la demora.\\nLe informamos que el turno brindado anteriormente fue registrado po...</td>\n",
       "    </tr>\n",
       "    <tr>\n",
       "      <th>4</th>\n",
       "      <td>62d98dfee4ffdfeec9fe40a8e89c95b7</td>\n",
       "      <td>Hola para el martes 21 a las 17.15</td>\n",
       "      <td>Muchas gracias, su turno ha sido confirmado para 21/05 17:15 hs Dr Lamoratta\\nSolicitamos puntua...</td>\n",
       "    </tr>\n",
       "    <tr>\n",
       "      <th>5</th>\n",
       "      <td>6a0603439b98d4233d2b1aa6a7180136</td>\n",
       "      <td>Si</td>\n",
       "      <td>Muchas gracias, su turno ha sido confirmado.\\n*Solicitamos puntualidad, recuerde que tiene toler...</td>\n",
       "    </tr>\n",
       "    <tr>\n",
       "      <th>6</th>\n",
       "      <td>6a0603439b98d4233d2b1aa6a7180136</td>\n",
       "      <td>Hola disculpe recien me avisan que trabajo Hola disculpe recien me avisan que trabajo Tendra otr...</td>\n",
       "      <td>Roxana, gracias por avisarnos.\\nContamos con disponibilidad de turno para los días:\\n- Viernes 2...</td>\n",
       "    </tr>\n",
       "    <tr>\n",
       "      <th>7</th>\n",
       "      <td>96d2ba6d9dc1310f0c979b6fb6752d6f</td>\n",
       "      <td>Si</td>\n",
       "      <td>Muchas gracias, su turno ha sido confirmado.\\n*Solicitamos puntualidad, recuerde que tiene toler...</td>\n",
       "    </tr>\n",
       "    <tr>\n",
       "      <th>8</th>\n",
       "      <td>1334bfce337cce2c022994eca50214f7</td>\n",
       "      <td>No. Se me complica para ir mañana.</td>\n",
       "      <td>Maria Jose, desea que reprogramemos su turno?</td>\n",
       "    </tr>\n",
       "    <tr>\n",
       "      <th>9</th>\n",
       "      <td>1334bfce337cce2c022994eca50214f7</td>\n",
       "      <td>Para la semana que viene el viernes puede ser ?</td>\n",
       "      <td>Bien, el día Viernes 21/06 contamos con disponibilidad de turno para las 15.00 Hs. o a las 16.00...</td>\n",
       "    </tr>\n",
       "    <tr>\n",
       "      <th>10</th>\n",
       "      <td>1334bfce337cce2c022994eca50214f7</td>\n",
       "      <td>Viernes A las 15hrs.</td>\n",
       "      <td>Perfecto, la esperamos el día Viernes 21/06 a las 15.00 Hs. con el Dr. Morales.\\nQue tenga buena...</td>\n",
       "    </tr>\n",
       "    <tr>\n",
       "      <th>11</th>\n",
       "      <td>1334bfce337cce2c022994eca50214f7</td>\n",
       "      <td>Gracias.</td>\n",
       "      <td>Buenas tardes Maria Jose Cufre le recordamos que el día Viernes 21/06 a las 15.00 Hs. tiene turn...</td>\n",
       "    </tr>\n",
       "    <tr>\n",
       "      <th>12</th>\n",
       "      <td>a749814020ccfe91ace45cb0bdc37802</td>\n",
       "      <td>Si</td>\n",
       "      <td>Muchas gracias, su turno ha sido confirmado.\\n*Solicitamos puntualidad, recuerde que tiene toler...</td>\n",
       "    </tr>\n",
       "    <tr>\n",
       "      <th>13</th>\n",
       "      <td>3ca5f328e1b82faa022862b0c05b3762</td>\n",
       "      <td>Si</td>\n",
       "      <td>Muchas gracias, su turno ha sido confirmado.\\n*Solicitamos puntualidad, recuerde que tiene toler...</td>\n",
       "    </tr>\n",
       "    <tr>\n",
       "      <th>14</th>\n",
       "      <td>1038503fa66c242bbbb1e6e09275db62</td>\n",
       "      <td>Hola buen día.. Para sacar turno para el doc Morales, para la semana que viene. Luego de las 16 ...</td>\n",
       "      <td>Buen día María Jose.\\nContamos con disponibilidad de turno para los días:\\n- Martes 30/07 a las ...</td>\n",
       "    </tr>\n",
       "    <tr>\n",
       "      <th>15</th>\n",
       "      <td>1038503fa66c242bbbb1e6e09275db62</td>\n",
       "      <td>martes 30/07</td>\n",
       "      <td>Perfecto María Jose, agendamos el turno del día Martes 30/07 a las 16.15 Hs. con el Dr. Morales....</td>\n",
       "    </tr>\n",
       "    <tr>\n",
       "      <th>16</th>\n",
       "      <td>a77951e0a7161c1eebb54858e0be24ea</td>\n",
       "      <td>Si</td>\n",
       "      <td>#turno_confirma Muchas gracias, su turno ha sido confirmado.\\n\\n*Solicitamos puntualidad, recuer...</td>\n",
       "    </tr>\n",
       "    <tr>\n",
       "      <th>17</th>\n",
       "      <td>1e2987befe79dfa0e7f47eb766fad122</td>\n",
       "      <td>Quiero un turno Hola soy Cristina quiero un turno para el viernes a la mañana si puede ser con e...</td>\n",
       "      <td>Buenas tardes Cristina, el Dr. Falcon atiende los días Lunes, Miércoles y Jueves.</td>\n",
       "    </tr>\n",
       "    <tr>\n",
       "      <th>18</th>\n",
       "      <td>1e2987befe79dfa0e7f47eb766fad122</td>\n",
       "      <td>A a q pena entonces para el lunes.puede ser??? Perdón puede ser para mañana no me acordaba que h...</td>\n",
       "      <td>El Dr. tiene todos los turnos tomados para el día de mañana y del Jueves.\\nContamos con disponib...</td>\n",
       "    </tr>\n",
       "    <tr>\n",
       "      <th>19</th>\n",
       "      <td>1e2987befe79dfa0e7f47eb766fad122</td>\n",
       "      <td>Entonces para el lunes es para empezar el tratamiento Me da el turno para el lunes o o no</td>\n",
       "      <td>Le comentamos que el Dr. Falcon no realiza tratamientos esclerosantes, le podemos dar turno con ...</td>\n",
       "    </tr>\n",
       "  </tbody>\n",
       "</table>\n",
       "</div>"
      ],
      "text/plain": [
       "                      conversationid  \\\n",
       "0   4a8ab665d076e7cc88b89374b636d547   \n",
       "1   4a8ab665d076e7cc88b89374b636d547   \n",
       "2   4a8ab665d076e7cc88b89374b636d547   \n",
       "3   c73ac5d9047cabc738041ea0103993f4   \n",
       "4   62d98dfee4ffdfeec9fe40a8e89c95b7   \n",
       "5   6a0603439b98d4233d2b1aa6a7180136   \n",
       "6   6a0603439b98d4233d2b1aa6a7180136   \n",
       "7   96d2ba6d9dc1310f0c979b6fb6752d6f   \n",
       "8   1334bfce337cce2c022994eca50214f7   \n",
       "9   1334bfce337cce2c022994eca50214f7   \n",
       "10  1334bfce337cce2c022994eca50214f7   \n",
       "11  1334bfce337cce2c022994eca50214f7   \n",
       "12  a749814020ccfe91ace45cb0bdc37802   \n",
       "13  3ca5f328e1b82faa022862b0c05b3762   \n",
       "14  1038503fa66c242bbbb1e6e09275db62   \n",
       "15  1038503fa66c242bbbb1e6e09275db62   \n",
       "16  a77951e0a7161c1eebb54858e0be24ea   \n",
       "17  1e2987befe79dfa0e7f47eb766fad122   \n",
       "18  1e2987befe79dfa0e7f47eb766fad122   \n",
       "19  1e2987befe79dfa0e7f47eb766fad122   \n",
       "\n",
       "                                                                                               question  \\\n",
       "0   Hola buenos dias; necesitaria un turno La consulta seria por flebologia Hola buenos dias; necesi...   \n",
       "1                                                                      Por la tarde A que hora tendrias   \n",
       "2                                                                                  Lunes 20 A las 16.30   \n",
       "3                                                        Farias roxana 28273432 Yocsina No tengo correo   \n",
       "4                                                                    Hola para el martes 21 a las 17.15   \n",
       "5                                                                                                    Si   \n",
       "6   Hola disculpe recien me avisan que trabajo Hola disculpe recien me avisan que trabajo Tendra otr...   \n",
       "7                                                                                                    Si   \n",
       "8                                                                    No. Se me complica para ir mañana.   \n",
       "9                                                       Para la semana que viene el viernes puede ser ?   \n",
       "10                                                                                 Viernes A las 15hrs.   \n",
       "11                                                                                             Gracias.   \n",
       "12                                                                                                   Si   \n",
       "13                                                                                                   Si   \n",
       "14  Hola buen día.. Para sacar turno para el doc Morales, para la semana que viene. Luego de las 16 ...   \n",
       "15                                                                                         martes 30/07   \n",
       "16                                                                                                   Si   \n",
       "17  Quiero un turno Hola soy Cristina quiero un turno para el viernes a la mañana si puede ser con e...   \n",
       "18  A a q pena entonces para el lunes.puede ser??? Perdón puede ser para mañana no me acordaba que h...   \n",
       "19            Entonces para el lunes es para empezar el tratamiento Me da el turno para el lunes o o no   \n",
       "\n",
       "                                                                                                 answer  \n",
       "0   buenos días. Gracias por comunicarse con Adara!\\n\\nLe informamos que nos encontramos en  Av. Col...  \n",
       "1   Contamos con disponibilidad de turno para los días:\\n- Lunes 20/05 a las 16.30 Hs. con el Dr. La...  \n",
       "2   Disculpe la demora.\\nPor último, para agendar su turno necesitamos los siguientes datos:\\n- Nomb...  \n",
       "3   Roxana, disculpe la demora.\\nLe informamos que el turno brindado anteriormente fue registrado po...  \n",
       "4   Muchas gracias, su turno ha sido confirmado para 21/05 17:15 hs Dr Lamoratta\\nSolicitamos puntua...  \n",
       "5   Muchas gracias, su turno ha sido confirmado.\\n*Solicitamos puntualidad, recuerde que tiene toler...  \n",
       "6   Roxana, gracias por avisarnos.\\nContamos con disponibilidad de turno para los días:\\n- Viernes 2...  \n",
       "7   Muchas gracias, su turno ha sido confirmado.\\n*Solicitamos puntualidad, recuerde que tiene toler...  \n",
       "8                                                         Maria Jose, desea que reprogramemos su turno?  \n",
       "9   Bien, el día Viernes 21/06 contamos con disponibilidad de turno para las 15.00 Hs. o a las 16.00...  \n",
       "10  Perfecto, la esperamos el día Viernes 21/06 a las 15.00 Hs. con el Dr. Morales.\\nQue tenga buena...  \n",
       "11  Buenas tardes Maria Jose Cufre le recordamos que el día Viernes 21/06 a las 15.00 Hs. tiene turn...  \n",
       "12  Muchas gracias, su turno ha sido confirmado.\\n*Solicitamos puntualidad, recuerde que tiene toler...  \n",
       "13  Muchas gracias, su turno ha sido confirmado.\\n*Solicitamos puntualidad, recuerde que tiene toler...  \n",
       "14  Buen día María Jose.\\nContamos con disponibilidad de turno para los días:\\n- Martes 30/07 a las ...  \n",
       "15  Perfecto María Jose, agendamos el turno del día Martes 30/07 a las 16.15 Hs. con el Dr. Morales....  \n",
       "16  #turno_confirma Muchas gracias, su turno ha sido confirmado.\\n\\n*Solicitamos puntualidad, recuer...  \n",
       "17                    Buenas tardes Cristina, el Dr. Falcon atiende los días Lunes, Miércoles y Jueves.  \n",
       "18  El Dr. tiene todos los turnos tomados para el día de mañana y del Jueves.\\nContamos con disponib...  \n",
       "19  Le comentamos que el Dr. Falcon no realiza tratamientos esclerosantes, le podemos dar turno con ...  "
      ]
     },
     "execution_count": 5,
     "metadata": {},
     "output_type": "execute_result"
    }
   ],
   "source": [
    "import pandas as pd\n",
    "pd.set_option('display.max_colwidth', 100)\n",
    "data = pd.read_csv(\"./data/question_answer.csv\", delimiter=\"|\") \n",
    "cols = ['conversationid','question','answer']\n",
    "filtered_dataset = pd.DataFrame({'conversationid' : data.conversationid,\n",
    "                     'question' : data.question,\n",
    "                          'answer' : data.answer})\n",
    "dataset = filtered_dataset[cols]\n",
    "dataset.head(20)"
   ]
  },
  {
   "cell_type": "markdown",
   "metadata": {
    "slideshow": {
     "slide_type": "slide"
    }
   },
   "source": [
    "# Maria Luisa\n",
    "Our first classifier was called \"Maria Luisa\" and is in production today in the client's CRM. After using algorithms avilable in ```sci-kit learn``` and other libraries, we found best results with ```fasttext```'s off-the-shelf supervised learning function.\n",
    "![scikit-learn](images/scikitlearn.png)\n",
    "![fasttext](images/fasttext.png) "
   ]
  },
  {
   "cell_type": "code",
   "execution_count": null,
   "metadata": {
    "slideshow": {
     "slide_type": "subslide"
    }
   },
   "outputs": [],
   "source": [
    "import pandas as pd\n",
    "import numpy as np\n",
    "import fasttext\n",
    "import re\n",
    "\n",
    "model = fasttext.train_supervised('./data/fasttext.train',autotuneValidationFile='./data/fasttext.valid',autotuneDuration=600,wordNgrams=2,bucket=200000,dim=50,loss='ova')\n",
    "model.save_model(\"omnichat_autotune_model00.bin\")\n"
   ]
  },
  {
   "cell_type": "code",
   "execution_count": 1,
   "metadata": {
    "slideshow": {
     "slide_type": "subslide"
    }
   },
   "outputs": [
    {
     "name": "stdout",
     "output_type": "stream",
     "text": [
      "N\t1479\n",
      "P@1\t0.817\n",
      "R@1\t0.817\n"
     ]
    },
    {
     "name": "stderr",
     "output_type": "stream",
     "text": [
      "\n"
     ]
    }
   ],
   "source": [
    "import fasttext\n",
    "\n",
    "model = fasttext.load_model(\"./data/omnichat_autotune_model22.bin\")\n",
    "\n",
    "def print_results(N, p, r):\n",
    "    print(\"N\\t\" + str(N))\n",
    "    print(\"P@{}\\t{:.3f}\".format(1, p))\n",
    "    print(\"R@{}\\t{:.3f}\".format(1, r))\n",
    "\n",
    "print_results(*model.test('./data/fasttext.valid'))"
   ]
  },
  {
   "cell_type": "code",
   "execution_count": 2,
   "metadata": {
    "slideshow": {
     "slide_type": "subslide"
    }
   },
   "outputs": [],
   "source": [
    "import re\n",
    "def clean_str(string):\n",
    "    \"\"\"\n",
    "    Tokenization/string cleaning problematic characters for dataset\n",
    "    Every dataset is lower cased except\n",
    "    \"\"\"\n",
    "    string = re.sub(r\"\\n\", \"\", string)\n",
    "    string = re.sub(r\"\\r\", \"\", string)\n",
    "    string = re.sub(r\"[0-9]\", \"\", string)\n",
    "    string = re.sub(r\"\\'\", \"\", string)\n",
    "    string = re.sub(r\"\\\"\", \"\", string)\n",
    "    string = re.sub(r\"[!]\", \"\", string)\n",
    "    string = re.sub(r\"[.]\", \"\", string)\n",
    "    string = re.sub(r\"[–]\", \"\", string)\n",
    "    string = re.sub(r\"[-]\", \"\", string)\n",
    "    string = re.sub(r\"[*]\", \"\", string)\n",
    "    string = re.sub(r\"[¿]\", \"\", string)\n",
    "    string = re.sub(r\"[í]\", \"i\", string)\n",
    "    string = re.sub(r\"[ó]\", \"o\", string)\n",
    "    string = re.sub(r\"[//-:]\", \"\", string)\n",
    "\n",
    "    return string.strip().lower()"
   ]
  },
  {
   "cell_type": "code",
   "execution_count": null,
   "metadata": {
    "slideshow": {
     "slide_type": "subslide"
    }
   },
   "outputs": [
    {
     "name": "stdout",
     "output_type": "stream",
     "text": [
      "Hola! Cómo te puedo ayudar? \n",
      " (type 99 to exit the message board.) \n",
      " Enter your message here:\n",
      ">>>>Quiero un turno\n",
      "(('__label__#cliente_potencial',), array([0.85967374]))\n",
      ">>>>tengo varices en mis piernas\n",
      "(('__label__#turno_flebologia',), array([1.00001001]))\n",
      ">>>>donde esta ubicado la clinca\n",
      "(('__label__#consulta_direccion',), array([0.50001001]))\n"
     ]
    }
   ],
   "source": [
    "print(\"Hola! Cómo te puedo ayudar? \\n (type 99 to exit the message board.) \\n Enter your message here:\")\n",
    "mesauge = \"\"\n",
    "while mesauge != \"99\":\n",
    "    mesauge = input(clean_str(\">>>>\"))\n",
    "    fast_mess = model.predict(mesauge)\n",
    "    print(fast_mess)"
   ]
  },
  {
   "cell_type": "markdown",
   "metadata": {
    "slideshow": {
     "slide_type": "slide"
    }
   },
   "source": [
    "# Annotation Guidelines\n",
    "![annotation guidelines](images/annotation_guidelines.png)"
   ]
  },
  {
   "cell_type": "markdown",
   "metadata": {
    "slideshow": {
     "slide_type": "slide"
    }
   },
   "source": [
    "# Advantages of Maria Luisa\n",
    "* provides valuable insights into business in real time: *what are my customers talking about?*\n",
    "* runs in the background (via Google Cloud function)\n",
    "* can be used to divert messages to appropriate channels within a business\n",
    "\n",
    "\n",
    "# Disadvantages\n",
    "* labor intensive because requires human tagging of messages\n",
    "* is not a chatbot"
   ]
  },
  {
   "cell_type": "markdown",
   "metadata": {
    "slideshow": {
     "slide_type": "slide"
    }
   },
   "source": [
    "# Solution 2: Generative chatbots using Machine Translation \n",
    "![biLSTM](images/biLSTM.png)\n",
    "    To avoid having to manually tag every message, we explored the option to us a machine translation architecture to create a chatbot. We trained a TensorFlow Seq2Seq (sequence-to-sequence) bidirectional LSTM recurrent neural network classifier, based on the project [DeepQA](https://github.com/Conchylicultor/DeepQA), developed by Etienne Pot at Google Brain."
   ]
  },
  {
   "cell_type": "markdown",
   "metadata": {
    "slideshow": {
     "slide_type": "subslide"
    }
   },
   "source": [
    "show tensorboard\n",
    "![tensorboard](images/tensorboard.png)\n"
   ]
  },
  {
   "cell_type": "markdown",
   "metadata": {
    "slideshow": {
     "slide_type": "slide"
    }
   },
   "source": [
    "# Model Configurations (beyond default): \n",
    "```maxLength=25``` - The seq2seq model will read 25 words in the encoder and produce up to 25 in the decoder)<br>\n",
    "```embedding_attention_seq2seq``` - a powerful modification of the loss function that identifies words of more importance and gives them more “attention” in the embedding.<br>\n",
    "\n",
    "# Training specs:\n",
    "* 2 hours\n",
    "* learning rate = 0.002 \n",
    "* 30 epochs\n",
    "* CPU (macbook air)\n",
    "* final loss = 0.3285"
   ]
  },
  {
   "cell_type": "markdown",
   "metadata": {
    "slideshow": {
     "slide_type": "slide"
    }
   },
   "source": [
    "### Examples of model performance:\n",
    "\n",
    "#### Native examples (questions not in the dataset):\n",
    "\n",
    "Q: no puedo ir. me complica el trabajo<br>\n",
    "A: Bien, quedamos a su disposición. que tenga buen día.\n",
    "\n",
    "Q: es gratis la consulta?<br>\n",
    "A: La consulta es sin cargo.\n",
    "\n",
    "Q: tienen turnos para viernes?<br>\n",
    "A: Para flebología tenemos disponibilidad de turnos por la mañana y por la tarde. ¿necesita algún horario en particular?\n",
    "\n",
    "FAILS:\n",
    "\n",
    "Q: tengo varices en mis piernas<br>\n",
    "A: Buenos días, sugerimos en ese horario la consulta es tenemos combo de mayo.\n",
    "\n",
    "Q: Bueno gracias<br>\n",
    "A: Responda *si* para confirmar o *no* para cancelar.\n",
    "\n",
    "Q: como es el tema del pago?<br>\n",
    "A: Correcto, nos encontramos en adara_address- instituto medico damic."
   ]
  },
  {
   "cell_type": "markdown",
   "metadata": {
    "slideshow": {
     "slide_type": "subslide"
    }
   },
   "source": [
    "show interactive"
   ]
  },
  {
   "cell_type": "markdown",
   "metadata": {
    "slideshow": {
     "slide_type": "slide"
    }
   },
   "source": [
    "# Adavantages of the machine translation technique\n",
    "* no tagging necessary; in a couple days a model can be up and running\n",
    "* provides answers based on real responses from operators\n",
    "\n",
    "# Disadvantages\n",
    "* responses are unstable\n",
    "* overfits \n"
   ]
  },
  {
   "cell_type": "markdown",
   "metadata": {
    "slideshow": {
     "slide_type": "slide"
    }
   },
   "source": [
    "# Solution 3: task-oriented chatbots\n",
    "Maria Luisa proved classification works with our *turnero* texts. With the DeepQA, we found that the biLSTM was the best architecture for language classifiers because of its strength in representing sequential information. However, the problem of managing the data during the conversation was still unresolved. Then **Rasa**, the open-source python library, which hugely accelerated development. ![rasa](images/rasa.jpg)  \n"
   ]
  },
  {
   "cell_type": "markdown",
   "metadata": {
    "slideshow": {
     "slide_type": "slide"
    }
   },
   "source": [
    "# Task-oriented Dialogue Systems: slot filling dialogues\n",
    "![task-oriented chatbot diagram](images/cover_photo.png)"
   ]
  },
  {
   "cell_type": "markdown",
   "metadata": {
    "slideshow": {
     "slide_type": "skip"
    }
   },
   "source": [
    "# Architecture:\n",
    "**NLU (natural language understanding)**<br>\n",
    "Composed of **biLSTM** classifiers which identify the **intent** of the user and perform **named entity reckognition** to fill \"**slots**\" that will be used later in the dialogue.<br>\n",
    "**DM (dialogue manager)**<br>\n",
    "The central controller of the system and also uses biLSTM classifiers to predict the most likely next step in the conversation based on previous \"**stories**\"; contains the DST and the policies.<br>\n",
    "**DST (dialogue state tracker)**<br>\n",
    "Responsible for keeping track of the current state of the dialogue.<br>\n",
    "**POL (a.k.a. the policy)**<br>\n",
    "This holds things such as what the bot should do if the confidence is very low, or how many times it should say, \"I'm sorry I didn't get that,\" before elevating the conversation to a human.<br> \n",
    "**NLG (natural language generator)**<br>\n",
    "The element which produces the chatbot's response; in our case it is composed of predetermined responses.<br> "
   ]
  },
  {
   "cell_type": "markdown",
   "metadata": {
    "slideshow": {
     "slide_type": "slide"
    }
   },
   "source": [
    "# Whats in RASA's NLU?\n",
    "![nlu diagram](images/nlu_diagram.png)\n",
    "## Three tasks:\n",
    "### domain detection - biLSTM classification<br>\n",
    "### intent determination - biLSTM classification implemented with keras<br>\n",
    "*Intent* represents the purpose of a user’s input, what the user wants to do. The user input text is first vectorized and then the intent of the text is extracted.\n",
    "### slot tagging - biLSTM sequence classification (more challenging)<br> \n",
    "*Entity* represents a term or object that is relevant to your intents and that provides a specific context for an intent.\n",
    "\n"
   ]
  },
  {
   "cell_type": "markdown",
   "metadata": {
    "slideshow": {
     "slide_type": "slide"
    }
   },
   "source": [
    "# Evaluation: must go beyond F1, precision and recall\n",
    "1. \"task completition success,\" or \"task success rate\" (fractions of conversation that solves the user's problem) \n",
    "2. time elapsed\n",
    "3. number of \"turns\""
   ]
  },
  {
   "cell_type": "markdown",
   "metadata": {
    "slideshow": {
     "slide_type": "slide"
    }
   },
   "source": [
    "# Analysis of error: What is my baseline?\n",
    "\n",
    "Limits: the bot can only respond to the information (intents and stories) you give it. The more time spent configuring and training the more it can do.<br>\n",
    "\n",
    "How much training data per intent? Rasa recommends **10** examples per intent. <br> \n",
    "\n",
    "Does it generalize? Not really<br> "
   ]
  },
  {
   "cell_type": "markdown",
   "metadata": {
    "slideshow": {
     "slide_type": "slide"
    }
   },
   "source": [
    "# Disadvantages:\n",
    "1. requires lots of domain knowledge to engineer features and design \"belief\" states\n",
    "2. difficult to solve credit assignments, identify the cause of undesired system responses<br>\n",
    "\n",
    "# Advantages:\n",
    "1. Open-source\n",
    "2. A big community of developers\n",
    "3. Quick to deploy for simple tasks\n",
    "4. Uses sophisticated ML (biLSTM RNN) for training and performs well\n",
    "5. Offers reinforcement learning frameworks and easy-to-train UI for non-programmers"
   ]
  },
  {
   "cell_type": "markdown",
   "metadata": {
    "slideshow": {
     "slide_type": "slide"
    }
   },
   "source": [
    "# Let's create a chatbot together!\n",
    "useful commands:<br>\n",
    "```rasa shell```<br>\n",
    "```rasa interactive```<br>\n",
    "```rasa visualize```<br>\n",
    "```rasa x```<br>"
   ]
  },
  {
   "cell_type": "markdown",
   "metadata": {
    "slideshow": {
     "slide_type": "slide"
    }
   },
   "source": [
    "# Bibliography\n",
    "\n",
    "Jianfeng Gao (Microsoft), Micahel Galley (Microsoft), Lihong Li (Google), [*Neural Approaches to Conversational AI: Question Answering, Task-Oriented Dialogues and Social Chatbots*](https://arxiv.org/pdf/1809.08267.pdf), 10 September 2019\n",
    "\n",
    "Alvaro Nuez Ezquerra, [*Implementing ChatBots using Neural Machine Translation techniques*](https://upcommons.upc.edu/bitstream/handle/2117/117176/TFG_final_version.pdf?sequence=1&isAllowed=y), 2018\n",
    "\n",
    "Etienne Pot, [*DeepQA*](https://github.com/Conchylicultor/DeepQA), 2016"
   ]
  }
 ],
 "metadata": {
  "celltoolbar": "Slideshow",
  "kernelspec": {
   "display_name": "Python 3",
   "language": "python",
   "name": "python3"
  },
  "language_info": {
   "codemirror_mode": {
    "name": "ipython",
    "version": 3
   },
   "file_extension": ".py",
   "mimetype": "text/x-python",
   "name": "python",
   "nbconvert_exporter": "python",
   "pygments_lexer": "ipython3",
   "version": "3.5.6"
  }
 },
 "nbformat": 4,
 "nbformat_minor": 2
}
